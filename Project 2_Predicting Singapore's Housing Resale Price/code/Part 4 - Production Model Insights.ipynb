{
 "cells": [
  {
   "cell_type": "markdown",
   "id": "3e19ea7e-0842-4cc4-afd4-5f80daa59623",
   "metadata": {},
   "source": [
    "# Production Model Insights"
   ]
  },
  {
   "cell_type": "markdown",
   "id": "1d9d4839-87c1-4c0c-803e-f603d677add4",
   "metadata": {},
   "source": [
    "### Business Insights Discussion"
   ]
  },
  {
   "cell_type": "markdown",
   "id": "e3b93ef1-46ca-46ae-b6d7-9282bd56c4dc",
   "metadata": {},
   "source": [
    "In this section, we will examine the results obtained from our model. The model of choice will be a linear regression without any regularisation applied as we did not observe significant improvement in R2 score or RMSE. We will also analyse our model coefficients based on resale price, without logarithmic transformation applied. It might be difficult or confusing to establish the relationship between the transformed and original variables."
   ]
  },
  {
   "cell_type": "code",
   "execution_count": null,
   "id": "7768338c-2f25-4d83-b22d-a51433b65731",
   "metadata": {},
   "outputs": [],
   "source": []
  },
  {
   "cell_type": "markdown",
   "id": "3726c26b-2f6a-4651-9473-69b8d166a698",
   "metadata": {},
   "source": [
    "### Conclusion and Recommendations\n",
    "\n",
    "For a home owner selling your HDB, location and flat type are the most influential factors that determine the resale price.\n",
    "\n",
    "Location: A HDB in Marine Parade, Tanglin or Changi can expect to fetch a much higher resale price than other areas, while those in Woodlands and Sembawang are expected to see the lowest prices.\n",
    "\n",
    "Flat Type: Unless the home owner is selling a Terrace, resale prices will largely follow the number of rooms, e.g., a 5-Room HDB is expected to fetch a higher resale price than a 4-Room HDB regardless of the layout.\n",
    "\n",
    "The presence and distance to amenities have very little impact to resale prices overall.\n",
    "\n",
    "This model is very specific to Singapore and may not generalise well to other cities. Nonetheless, to generalise to other cities, we can substitute planning_area with some form of measurement of distance to city centre, and simplify full_flat_type to just the number of rooms."
   ]
  },
  {
   "cell_type": "markdown",
   "id": "cce093dc-912a-4035-9ec8-8ab9372c9598",
   "metadata": {},
   "source": [
    "### Limitations\n",
    "\n",
    "The dataset used in this study was limited to data regarding the HDB flats. To create additional insights, the use of geocoding would help to generate interesting features. This includes, but is not limited to, the location from an MRT station or school. Using the geocoder package, we were able to translate the street_name feature into latitude and longitude. Unfortunately, the Google Maps API only allowed 2500 requests per day. This made it difficult to translate all our datapoints into geocodes. Besides Google, we also tried other APIs such as Baidu, but ran into the same problem. As these variables could create interesting insights, as shown in another Singaporean study [11], we consider the lack of them a limitation to this study.\n",
    "\n",
    "The influence of the government should be taken into consideration as well. Since the market is largely dependent on the plans of the Housing Development Board (HDB), the resale prices could be more difficult to predict. For example, looking at the last years, the government tried to limit the increase in housing prices [22]. Using a predictive model would therefore be hard in these not truly open markets."
   ]
  },
  {
   "cell_type": "markdown",
   "id": "196e0da4-40a5-4f57-87b9-c79dae969c38",
   "metadata": {},
   "source": [
    "### Future Research\n",
    "\n",
    "Besides the HDB resale market, it would be worth taking a look into the private property market in Singapore as well. Looking at both HDB and private markets might help to  create interesting insights and allow us to compare features that drive housing prices in both markets. In addition, studying overseas housing trends might also allow us to understand features that are specific to different countries/continents."
   ]
  }
 ],
 "metadata": {
  "kernelspec": {
   "display_name": "Python [conda env:dsi-sg]",
   "language": "python",
   "name": "conda-env-dsi-sg-py"
  },
  "language_info": {
   "codemirror_mode": {
    "name": "ipython",
    "version": 3
   },
   "file_extension": ".py",
   "mimetype": "text/x-python",
   "name": "python",
   "nbconvert_exporter": "python",
   "pygments_lexer": "ipython3",
   "version": "3.9.13"
  }
 },
 "nbformat": 4,
 "nbformat_minor": 5
}
